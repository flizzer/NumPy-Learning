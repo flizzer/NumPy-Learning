{
  "nbformat": 4,
  "nbformat_minor": 0,
  "metadata": {
    "colab": {
      "name": "FourthBrainProgrammingChallengePractice.ipynb",
      "provenance": [],
      "collapsed_sections": [
        "IS5mmqfWX5bx",
        "CZw73eBsjdNA",
        "Y9mKLGyEjpwp",
        "ZvuO1BMqjy55",
        "QFE51luokLI6",
        "_Oyvc8RTkwEb"
      ],
      "toc_visible": true,
      "mount_file_id": "1UHxJL5q9TA5H3YiCCm6BNO64liX82dCc",
      "authorship_tag": "ABX9TyM+HG6GIrA0nVb3tAT+uvFm",
      "include_colab_link": true
    },
    "kernelspec": {
      "name": "python3",
      "display_name": "Python 3"
    },
    "language_info": {
      "name": "python"
    }
  },
  "cells": [
    {
      "cell_type": "markdown",
      "metadata": {
        "id": "view-in-github",
        "colab_type": "text"
      },
      "source": [
        "<a href=\"https://colab.research.google.com/github/flizzer/NumPy-Learning/blob/main/FourthBrainProgrammingChallengePractice.ipynb\" target=\"_parent\"><img src=\"https://colab.research.google.com/assets/colab-badge.svg\" alt=\"Open In Colab\"/></a>"
      ]
    },
    {
      "cell_type": "markdown",
      "metadata": {
        "id": "IS5mmqfWX5bx"
      },
      "source": [
        "## Back-end Challenge\n",
        "\n",
        "In the Python file, write a program to perform a GET request on the route https://coderbyte.com/api/challenges/json/age-counting which contains a data key and the value is a string which contains items in the format: key=STRING, age=INTEGER. Your goal is to count how many items exist that have an age equal to or greater than 50, and print this final value.\n",
        "\n",
        "**Example Input**\n",
        "\n",
        "{\"data\":\"key=IAfpK, age=58, key=WNVdi, age=64, key=jp9zt, age=47\"}\n",
        "\n",
        "**Example Output**\n",
        "\n",
        "2\n",
        "\n",
        "**Given Code:**\n",
        "\n",
        "```\n",
        "import requests\n",
        "import numpy as np\n",
        "import pandas as pd\n",
        "\n",
        "r = requests.get('https://coderbyte.com/api/challenges/json/age-counting')\n",
        "print(len(r.json()['data']))\n",
        "\n",
        "\n",
        "Python version\n",
        "--------------\n",
        "3.8.3 [GCC 8.3.0]\n",
        "\n",
        "Packages installed\n",
        "------------------\n",
        "boto3\n",
        "numpy\n",
        "pandas\n",
        "requests\n",
        "scikit-learn\n",
        "scipy\n",
        "\n",
        "output logs will appear here\n",
        "```\n",
        "\n",
        "\n"
      ]
    },
    {
      "cell_type": "markdown",
      "metadata": {
        "id": "CZw73eBsjdNA"
      },
      "source": [
        "### Imports and setup based off of givens..."
      ]
    },
    {
      "cell_type": "code",
      "metadata": {
        "id": "eJAfYPwhZpgF"
      },
      "source": [
        "import requests\n",
        "import numpy as np\n",
        "import pandas as pd"
      ],
      "execution_count": null,
      "outputs": []
    },
    {
      "cell_type": "code",
      "metadata": {
        "colab": {
          "base_uri": "https://localhost:8080/"
        },
        "id": "Y8NNYuDXcnT3",
        "outputId": "95cbeab0-e3d1-4941-fb4e-dd110bb68cb1"
      },
      "source": [
        "r = requests.get('https://coderbyte.com/api/challenges/json/age-counting')\n",
        "print(len(r.json()['data']))"
      ],
      "execution_count": null,
      "outputs": [
        {
          "output_type": "stream",
          "text": [
            "5660\n"
          ],
          "name": "stdout"
        }
      ]
    },
    {
      "cell_type": "code",
      "metadata": {
        "colab": {
          "base_uri": "https://localhost:8080/"
        },
        "id": "Qxsu8Ypscw7W",
        "outputId": "10f94afa-db47-40d3-f93f-104679ef20cb"
      },
      "source": [
        "age_data = r.json()['data']\n",
        "type(age_data)"
      ],
      "execution_count": null,
      "outputs": [
        {
          "output_type": "execute_result",
          "data": {
            "text/plain": [
              "str"
            ]
          },
          "metadata": {
            "tags": []
          },
          "execution_count": 16
        }
      ]
    },
    {
      "cell_type": "code",
      "metadata": {
        "colab": {
          "base_uri": "https://localhost:8080/"
        },
        "id": "69hF-lU3FTl_",
        "outputId": "835c7677-8618-4f80-a768-fe8844bdff77"
      },
      "source": [
        "age_data"
      ],
      "execution_count": null,
      "outputs": [
        {
          "output_type": "execute_result",
          "data": {
            "application/vnd.google.colaboratory.intrinsic+json": {
              "type": "string"
            },
            "text/plain": [
              "'key=IAfpK, age=58, key=WNVdi, age=64, key=jp9zt, age=47, key=0Sr4C, age=68, key=CGEqo, age=76, key=IxKVQ, age=79, key=eD221, age=29, key=XZbHV, age=32, key=k1SN5, age=88, key=4SCsU, age=65, key=q3kG6, age=33, key=MGQpf, age=13, key=Kj6xW, age=14, key=tg2VM, age=30, key=WSnCU, age=24, key=f1Vvz, age=46, key=dOS7A, age=72, key=tDojg, age=82, key=nZyJA, age=48, key=R8JTk, age=29, key=005Ot, age=66, key=HHROm, age=12, key=5yzG8, age=51, key=xMJ5D, age=38, key=TXtVu, age=82, key=Hz38B, age=84, key=WfObU, age=27, key=mmqYB, age=14, key=4Z3Ay, age=62, key=x3B0i, age=55, key=QCiQB, age=72, key=zGtmR, age=66, key=nlIN9, age=8, key=hKalB, age=50, key=Na33O, age=17, key=jMeXm, age=15, key=OO2Mc, age=32, key=hhowx, age=34, key=gLMJf, age=60, key=PblX6, age=66, key=8Vm5W, age=22, key=oZKd6, age=88, key=RXNfQ, age=25, key=3yy0p, age=64, key=FrQbL, age=80, key=vlUkk, age=55, key=DP8po, age=80, key=EroX6, age=84, key=3bsll, age=86, key=QhZjA, age=85, key=wm6uc, age=74, key=MC1FM, age=75, key=AMxZr, age=64, key=ee03Q, age=4, key=9fGea, age=41, key=3TE9U, age=74, key=FoSMR, age=13, key=4To0X, age=57, key=5CZY3, age=33, key=qFvKG, age=79, key=W7bUh, age=2, key=htab7, age=15, key=KRyu2, age=77, key=GLkk7, age=80, key=jnXf6, age=51, key=YBTJ9, age=43, key=auL0J, age=30, key=ZHmmd, age=4, key=01iNV, age=7, key=7ldyh, age=55, key=TjXbT, age=88, key=ochyW, age=3, key=lsGXW, age=1, key=5o7Bd, age=45, key=APWEf, age=79, key=LRmKc, age=81, key=uZIoQ, age=12, key=Zf79H, age=42, key=NrpEI, age=6, key=XzYKx, age=22, key=kk0sU, age=62, key=p5uue, age=74, key=WscQQ, age=75, key=tRogh, age=19, key=ur4rW, age=60, key=IkCeS, age=19, key=vtGK4, age=11, key=C87cQ, age=38, key=0qXDb, age=39, key=KtBjN, age=46, key=f2h36, age=3, key=tGzgU, age=38, key=hIrPv, age=0, key=Tq7IX, age=25, key=F4k9K, age=46, key=9duxK, age=17, key=jTHDj, age=68, key=6GHpE, age=1, key=ye9us, age=9, key=eOfZO, age=72, key=I25vO, age=88, key=nqtBH, age=38, key=Dwn6b, age=70, key=4Qkdc, age=37, key=xvOa3, age=77, key=dg4rX, age=30, key=S9YbW, age=73, key=WhQqH, age=22, key=fexMF, age=88, key=Gzr0n, age=16, key=yFfjA, age=73, key=EfAKS, age=88, key=5Enyf, age=12, key=DK3HU, age=25, key=iGEBf, age=13, key=7r5UR, age=27, key=TQx1J, age=33, key=VlFwT, age=26, key=gnEgG, age=10, key=6P8gz, age=3, key=JnQLt, age=14, key=D3WJv, age=58, key=EXPMD, age=66, key=RzIDx, age=17, key=m6oYq, age=46, key=XTKAk, age=78, key=ZPLrJ, age=33, key=pDktp, age=10, key=TE9BG, age=18, key=7IS0l, age=35, key=yMY5X, age=58, key=jniwe, age=29, key=eb7lG, age=6, key=uzaoH, age=2, key=pUQoE, age=64, key=JZcuo, age=20, key=XwKBi, age=73, key=Zv4q9, age=31, key=HMD5T, age=76, key=rA4bI, age=75, key=PAMR7, age=86, key=tb8mz, age=2, key=vPcXk, age=18, key=c0Ixk, age=5, key=nkRrD, age=63, key=ISzFh, age=7, key=kcC1y, age=71, key=6J0WQ, age=27, key=FgiVY, age=72, key=Z8M30, age=50, key=Ep2Br, age=48, key=w9MRR, age=1, key=GI7oe, age=49, key=3ehsB, age=67, key=UW3dX, age=87, key=094dk, age=64, key=6tW4g, age=83, key=dT9IK, age=39, key=AofBp, age=27, key=7flGb, age=71, key=IBDqH, age=18, key=K2qn9, age=60, key=Qe7YJ, age=13, key=jqCHl, age=1, key=3R2IN, age=1, key=oVzfV, age=22, key=3yGCN, age=47, key=DOMm4, age=89, key=7EFRj, age=33, key=t1qsV, age=39, key=CBal1, age=14, key=BC0vr, age=68, key=0yY6L, age=47, key=Z8kX8, age=62, key=5oH1d, age=66, key=w0r3A, age=6, key=Bu8uK, age=55, key=vyqhK, age=35, key=7Zgz6, age=58, key=T573t, age=18, key=Rr4WR, age=48, key=kxnBU, age=39, key=XI3Jo, age=45, key=IAE95, age=43, key=rfSBT, age=59, key=znDPW, age=57, key=mBDDN, age=4, key=2hL0t, age=35, key=MbHM6, age=33, key=bS5oR, age=88, key=Rav2A, age=24, key=aLQO7, age=74, key=QCTUi, age=81, key=0HZlb, age=39, key=zshkO, age=5, key=q5EUd, age=75, key=WwgjN, age=20, key=LzTMa, age=3, key=uumoL, age=32, key=m3LJI, age=80, key=rU10P, age=39, key=gVTQz, age=79, key=wZjna, age=47, key=3d1E0, age=77, key=Ra74M, age=89, key=FJXHG, age=11, key=MckmR, age=37, key=tSqfN, age=2, key=HHkpI, age=40, key=S7rIA, age=34, key=vnpjJ, age=2, key=t8WSa, age=84, key=38fyp, age=11, key=Znot2, age=72, key=OGqoG, age=65, key=7VKiL, age=58, key=UdlEG, age=79, key=BXxIS, age=47, key=eW6F8, age=10, key=GASTN, age=86, key=SP0yy, age=53, key=ysN9w, age=17, key=KVGGz, age=76, key=yhEVk, age=47, key=vvlgV, age=67, key=aIMuS, age=21, key=KcHZk, age=41, key=6n8pa, age=35, key=ADTut, age=3, key=WNJXO, age=37, key=qta1A, age=67, key=cJOTp, age=67, key=1Bgd3, age=71, key=sHepZ, age=67, key=JoMvH, age=65, key=h1gF0, age=53, key=we7hP, age=41, key=Ztl8x, age=8, key=7pkQj, age=43, key=fkBah, age=21, key=FWETS, age=55, key=Gb4IY, age=26, key=U88H6, age=57, key=iExWE, age=8, key=7sl6v, age=8, key=iwI1x, age=9, key=cdKUG, age=60, key=xb127, age=57, key=dqYi8, age=15, key=opO2h, age=80, key=RNux0, age=37, key=cooLT, age=7, key=qhzQn, age=18, key=uowal, age=10, key=YR8Oy, age=17, key=GwEwr, age=15, key=WIXKE, age=53, key=aeem8, age=88, key=UPYoP, age=85, key=IF1pO, age=11, key=R6pUy, age=37, key=vYADh, age=0, key=TIq4k, age=35, key=dCekr, age=56, key=HBbXO, age=84, key=Lo9h5, age=36, key=fqBW3, age=87, key=OQWCL, age=52, key=nlYrf, age=6, key=cUS5f, age=32, key=A5gR0, age=32, key=HpUXl, age=84, key=nOuUT, age=18, key=mfvjr, age=12, key=24FH4, age=13, key=2rQei, age=51, key=EGAAV, age=8, key=Q5ifr, age=50, key=AVpil, age=87, key=vRcjt, age=51, key=G53C3, age=53, key=bsZAz, age=66, key=a8rVi, age=28, key=qPs5m, age=48, key=hF1kt, age=78, key=GIDFA, age=32, key=d2Mg4, age=12, key=EoYwt, age=30, key=DL7zx, age=14, key=lsA6c, age=17, key=ExutD, age=82, key=YOSNP, age=53, key=PEfma, age=49, key=EA8Go, age=18, key=fGTSM, age=60, key=lRf1j, age=13, key=0iJGV, age=50, key=cFCfU, age=5, key=J8an1, age=48, key=dkSlj, age=5'"
            ]
          },
          "metadata": {
            "tags": []
          },
          "execution_count": 17
        }
      ]
    },
    {
      "cell_type": "markdown",
      "metadata": {
        "id": "Y9mKLGyEjpwp"
      },
      "source": [
        "### Parse the CSV list..."
      ]
    },
    {
      "cell_type": "code",
      "metadata": {
        "id": "E5c7ZZCDIOqg"
      },
      "source": [
        "age_data_list = age_data.split(sep=\",\")\n",
        "type(age_data_list)\n",
        "age_data_list"
      ],
      "execution_count": null,
      "outputs": []
    },
    {
      "cell_type": "code",
      "metadata": {
        "id": "yuNdWxy0O-b9"
      },
      "source": [
        "age_array = age_data_list"
      ],
      "execution_count": null,
      "outputs": []
    },
    {
      "cell_type": "code",
      "metadata": {
        "colab": {
          "base_uri": "https://localhost:8080/"
        },
        "id": "cJGojoAhiHXY",
        "outputId": "bf582ecd-6433-4e29-ec25-1a787a5386b2"
      },
      "source": [
        "len(age_data_list)"
      ],
      "execution_count": null,
      "outputs": [
        {
          "output_type": "execute_result",
          "data": {
            "text/plain": [
              "600"
            ]
          },
          "metadata": {
            "tags": []
          },
          "execution_count": 20
        }
      ]
    },
    {
      "cell_type": "markdown",
      "metadata": {
        "id": "ZvuO1BMqjy55"
      },
      "source": [
        "### Get every other value separated by commas so as to get the ages and not the keys.  The length should be 1/2 the size of the total length..."
      ]
    },
    {
      "cell_type": "code",
      "metadata": {
        "colab": {
          "base_uri": "https://localhost:8080/"
        },
        "id": "tjtRu5kdPmfn",
        "outputId": "4d92f5ad-f5ec-422a-da11-b9a26fc01065"
      },
      "source": [
        "ages = age_data_list[1::2]\n",
        "print(len(ages))"
      ],
      "execution_count": null,
      "outputs": [
        {
          "output_type": "stream",
          "text": [
            "300\n"
          ],
          "name": "stdout"
        }
      ]
    },
    {
      "cell_type": "code",
      "metadata": {
        "id": "dF_wij4zh4X-",
        "colab": {
          "base_uri": "https://localhost:8080/"
        },
        "outputId": "d5a9bdff-bc31-428d-e23c-4f20094221bc"
      },
      "source": [
        "ages\n",
        "type(ages)"
      ],
      "execution_count": null,
      "outputs": [
        {
          "output_type": "execute_result",
          "data": {
            "text/plain": [
              "list"
            ]
          },
          "metadata": {
            "tags": []
          },
          "execution_count": 29
        }
      ]
    },
    {
      "cell_type": "markdown",
      "metadata": {
        "id": "QFE51luokLI6"
      },
      "source": [
        "### Use list comprehension to parse the string for the right-hand side of the \"=\" in order to get the age value..."
      ]
    },
    {
      "cell_type": "code",
      "metadata": {
        "id": "DHWCpoyINKgV",
        "colab": {
          "base_uri": "https://localhost:8080/"
        },
        "outputId": "bf533cce-a30a-4b1a-8f6f-169b01f4d6ee"
      },
      "source": [
        "ages_new = [int(x.split(\"=\")[1]) for x in ages]\n",
        "print(ages_new)\n",
        "print(str.format(\"type = {0}\", type(ages_new)))"
      ],
      "execution_count": null,
      "outputs": [
        {
          "output_type": "stream",
          "text": [
            "[58, 64, 47, 68, 76, 79, 29, 32, 88, 65, 33, 13, 14, 30, 24, 46, 72, 82, 48, 29, 66, 12, 51, 38, 82, 84, 27, 14, 62, 55, 72, 66, 8, 50, 17, 15, 32, 34, 60, 66, 22, 88, 25, 64, 80, 55, 80, 84, 86, 85, 74, 75, 64, 4, 41, 74, 13, 57, 33, 79, 2, 15, 77, 80, 51, 43, 30, 4, 7, 55, 88, 3, 1, 45, 79, 81, 12, 42, 6, 22, 62, 74, 75, 19, 60, 19, 11, 38, 39, 46, 3, 38, 0, 25, 46, 17, 68, 1, 9, 72, 88, 38, 70, 37, 77, 30, 73, 22, 88, 16, 73, 88, 12, 25, 13, 27, 33, 26, 10, 3, 14, 58, 66, 17, 46, 78, 33, 10, 18, 35, 58, 29, 6, 2, 64, 20, 73, 31, 76, 75, 86, 2, 18, 5, 63, 7, 71, 27, 72, 50, 48, 1, 49, 67, 87, 64, 83, 39, 27, 71, 18, 60, 13, 1, 1, 22, 47, 89, 33, 39, 14, 68, 47, 62, 66, 6, 55, 35, 58, 18, 48, 39, 45, 43, 59, 57, 4, 35, 33, 88, 24, 74, 81, 39, 5, 75, 20, 3, 32, 80, 39, 79, 47, 77, 89, 11, 37, 2, 40, 34, 2, 84, 11, 72, 65, 58, 79, 47, 10, 86, 53, 17, 76, 47, 67, 21, 41, 35, 3, 37, 67, 67, 71, 67, 65, 53, 41, 8, 43, 21, 55, 26, 57, 8, 8, 9, 60, 57, 15, 80, 37, 7, 18, 10, 17, 15, 53, 88, 85, 11, 37, 0, 35, 56, 84, 36, 87, 52, 6, 32, 32, 84, 18, 12, 13, 51, 8, 50, 87, 51, 53, 66, 28, 48, 78, 32, 12, 30, 14, 17, 82, 53, 49, 18, 60, 13, 50, 5, 48, 5]\n",
            "type = <class 'list'>\n"
          ],
          "name": "stdout"
        }
      ]
    },
    {
      "cell_type": "markdown",
      "metadata": {
        "id": "_Oyvc8RTkwEb"
      },
      "source": [
        "### Use another list comprehension to get all the ages >= 50 and sum 'em up..."
      ]
    },
    {
      "cell_type": "code",
      "metadata": {
        "colab": {
          "base_uri": "https://localhost:8080/"
        },
        "id": "7E8giFMcNXEl",
        "outputId": "e12498bb-af93-4418-f7b4-8c2efa6c5950"
      },
      "source": [
        "#counter = 0\n",
        "greater_than_fifty = ([x for x in ages_new if x >= 50])\n",
        "#[counter x for x in ages_new if x > 50]\n",
        "#print(greater_than_fifty)\n",
        "print(greater_than_fifty)\n",
        "print(len(greater_than_fifty)) #128 ages are over or equal to 50"
      ],
      "execution_count": null,
      "outputs": [
        {
          "output_type": "stream",
          "text": [
            "[58, 64, 68, 76, 79, 88, 65, 72, 82, 66, 51, 82, 84, 62, 55, 72, 66, 50, 60, 66, 88, 64, 80, 55, 80, 84, 86, 85, 74, 75, 64, 74, 57, 79, 77, 80, 51, 55, 88, 79, 81, 62, 74, 75, 60, 68, 72, 88, 70, 77, 73, 88, 73, 88, 58, 66, 78, 58, 64, 73, 76, 75, 86, 63, 71, 72, 50, 67, 87, 64, 83, 71, 60, 89, 68, 62, 66, 55, 58, 59, 57, 88, 74, 81, 75, 80, 79, 77, 89, 84, 72, 65, 58, 79, 86, 53, 76, 67, 67, 67, 71, 67, 65, 53, 55, 57, 60, 57, 80, 53, 88, 85, 56, 84, 87, 52, 84, 51, 50, 87, 51, 53, 66, 78, 82, 53, 60, 50]\n",
            "128\n"
          ],
          "name": "stdout"
        }
      ]
    },
    {
      "cell_type": "markdown",
      "metadata": {
        "id": "26gwKlcKdt2S"
      },
      "source": [
        "## Matrix Challenge\n",
        "\n",
        "Have the function MatrixChallenge(strArr) read strArr which will be an array of integers represented as strings. Within the array there will also be \"<>\" elements which represent break points. The array will make up a matrix where the (number of break points + 1) represents the number of rows. Here is an example of how strArr may look: [\"1\",\"0\",\"1\",\"<>\",\"0\",\"1\",\"0\",\"<>\",\"1\",\"0\",\"1\"]. There are two \"<>\", so 2 + 1 = 3. Therefore there will be three rows in the array and the contents will be row1=[1 0 1], row2=[0 1 0] and row3=[1 0 1]. Your program should take the given array of elements, create the proper matrix, and then determine whether the matrix is symmetric, in other words, if matrix M is equal to M transpose. If it is, return the string symmetric and if it isn't return the string not symmetric. A matrix may or may not be a square matrix and if this is the case you should return the string not possible. For the example above, your program should return symmetric. \n",
        "\n",
        "***Example 1***\n",
        "\n",
        "**Input:**\n",
        "\n",
        " [\"5\",\"0\",\"<>\",\"0\",\"5\"] \n",
        "\n",
        "**Output:**\n",
        "\n",
        "symmetric\n",
        "\n",
        "***Example 2***\n",
        "\n",
        "**Input:** \n",
        "\n",
        "[\"1\",\"2\",\"4\",\"<>\",\"2\",\"1\",\"1\",\"<>\",\"-4\",\"1\",\"-1\"] \n",
        "\n",
        "**Output:** \n",
        "\n",
        "not symmetric\n",
        "\n",
        "**Given Code:**\n",
        "\n",
        "```\n",
        "import requests\n",
        "import numpy as np\n",
        "import pandas as pd\n",
        "\n",
        "def MatrixChallenge(strArr):\n",
        "\n",
        "  # code goes here\n",
        "  return strArr\n",
        "\n",
        "# keep this function call here \n",
        "print MatrixChallenge(raw_input())\n",
        "\n",
        "\n",
        "\n",
        "Python version\n",
        "--------------\n",
        "3.8.3 [GCC 8.3.0]\n",
        "\n",
        "Packages installed\n",
        "------------------\n",
        "boto3\n",
        "numpy\n",
        "pandas\n",
        "requests\n",
        "scikit-learn\n",
        "scipy\n",
        "\n",
        "output logs will appear here\n",
        "```\n"
      ]
    },
    {
      "cell_type": "code",
      "metadata": {
        "id": "KczukQD2DqML"
      },
      "source": [
        "import requests\n",
        "import numpy as np\n",
        "import pandas as pd"
      ],
      "execution_count": 1,
      "outputs": []
    },
    {
      "cell_type": "code",
      "metadata": {
        "colab": {
          "base_uri": "https://localhost:8080/"
        },
        "id": "enGfOd02esCD",
        "outputId": "2ad93319-69ce-48ae-a042-778c42b9e1a2"
      },
      "source": [
        "type(strArray1)"
      ],
      "execution_count": 4,
      "outputs": [
        {
          "output_type": "execute_result",
          "data": {
            "text/plain": [
              "list"
            ]
          },
          "metadata": {
            "tags": []
          },
          "execution_count": 4
        }
      ]
    },
    {
      "cell_type": "code",
      "metadata": {
        "colab": {
          "base_uri": "https://localhost:8080/"
        },
        "id": "YiK2JvkGtxhZ",
        "outputId": "d778f802-3b8f-4d7b-884c-081c5f48e1f8"
      },
      "source": [
        "rows = [x.split(',') for x in (',').join(strArray1).split('<>')]\n",
        "rows"
      ],
      "execution_count": 5,
      "outputs": [
        {
          "output_type": "execute_result",
          "data": {
            "text/plain": [
              "[['5', '0', ''], ['', '0', '5']]"
            ]
          },
          "metadata": {
            "tags": []
          },
          "execution_count": 5
        }
      ]
    },
    {
      "cell_type": "code",
      "metadata": {
        "colab": {
          "base_uri": "https://localhost:8080/"
        },
        "id": "cbSNSXLb6mDD",
        "outputId": "dadb72cf-2c80-4775-ffad-37d0860eef3c"
      },
      "source": [
        "rows2 = [x.split(',') for x in (',').join(strArray2).split('<>')]\n",
        "rows2"
      ],
      "execution_count": 66,
      "outputs": [
        {
          "output_type": "execute_result",
          "data": {
            "text/plain": [
              "[['1', '2', '4', ''], ['', '2', '1', '1', ''], ['', '-4', '1', '-1']]"
            ]
          },
          "metadata": {
            "tags": []
          },
          "execution_count": 66
        }
      ]
    },
    {
      "cell_type": "code",
      "metadata": {
        "id": "3ZQteX-BvtMX"
      },
      "source": [
        "def splitArray(strArray):\n",
        "  return [x.split(',') for x in (',').join(strArray).split('<>')]"
      ],
      "execution_count": 85,
      "outputs": []
    },
    {
      "cell_type": "code",
      "metadata": {
        "id": "8li4jqDvElAF"
      },
      "source": [
        "def removeEmpties(rows):\n",
        "  for row in rows:\n",
        "    for element in row:\n",
        "      #print(element)\n",
        "      if element == '':\n",
        "        #print(row.index(element))\n",
        "        row.remove(element)       \n",
        "  return rows"
      ],
      "execution_count": 7,
      "outputs": []
    },
    {
      "cell_type": "code",
      "metadata": {
        "colab": {
          "base_uri": "https://localhost:8080/"
        },
        "id": "DrwFMulSF6UC",
        "outputId": "43587bfb-8541-4455-a49c-e873c6c9a834"
      },
      "source": [
        "rows_filtered = removeEmpties(rows)\n",
        "rows_filtered_array = np.array(rows, dtype=int)\n",
        "print(rows_filtered_array)\n",
        "type(rows_filtered_array)"
      ],
      "execution_count": 68,
      "outputs": [
        {
          "output_type": "stream",
          "text": [
            "[[5 0]\n",
            " [0 5]]\n"
          ],
          "name": "stdout"
        },
        {
          "output_type": "execute_result",
          "data": {
            "text/plain": [
              "numpy.ndarray"
            ]
          },
          "metadata": {
            "tags": []
          },
          "execution_count": 68
        }
      ]
    },
    {
      "cell_type": "code",
      "metadata": {
        "colab": {
          "base_uri": "https://localhost:8080/"
        },
        "id": "Abodt5dj7Gg_",
        "outputId": "8fce4086-1b2e-4e34-f1c4-337651edf0ef"
      },
      "source": [
        "rows2"
      ],
      "execution_count": 70,
      "outputs": [
        {
          "output_type": "execute_result",
          "data": {
            "text/plain": [
              "[['1', '2', '4'], ['2', '1', '1'], ['-4', '1', '-1']]"
            ]
          },
          "metadata": {
            "tags": []
          },
          "execution_count": 70
        }
      ]
    },
    {
      "cell_type": "code",
      "metadata": {
        "colab": {
          "base_uri": "https://localhost:8080/"
        },
        "id": "M2mXSCOR60a9",
        "outputId": "4198fb8d-3759-4304-e493-45bee9fb3f77"
      },
      "source": [
        "rows2_filtered = removeEmpties(rows2)\n",
        "rows2_filtered"
      ],
      "execution_count": 71,
      "outputs": [
        {
          "output_type": "execute_result",
          "data": {
            "text/plain": [
              "[['1', '2', '4'], ['2', '1', '1'], ['-4', '1', '-1']]"
            ]
          },
          "metadata": {
            "tags": []
          },
          "execution_count": 71
        }
      ]
    },
    {
      "cell_type": "code",
      "metadata": {
        "id": "ka6O3IUl4UuM"
      },
      "source": [
        "def CreateMatrices(rows_filtered):\n",
        "  rows_filtered_array = np.array(rows_filtered, dtype=int)\n",
        "  matrix = np.matrix(rows_filtered_array)\n",
        "  matrix_transposed = matrix.transpose()\n",
        "  return matrix, matrix_transposed"
      ],
      "execution_count": 63,
      "outputs": []
    },
    {
      "cell_type": "code",
      "metadata": {
        "id": "NS2UZAL8pIln",
        "colab": {
          "base_uri": "https://localhost:8080/"
        },
        "outputId": "32d2dd9e-8e36-4fd7-fb03-e4a4d257d8a2"
      },
      "source": [
        "matrix1 = np.matrix(rows_filtered)\n",
        "matrix1"
      ],
      "execution_count": 92,
      "outputs": [
        {
          "output_type": "execute_result",
          "data": {
            "text/plain": [
              "matrix([['5', '0'],\n",
              "        ['0', '5']], dtype='<U1')"
            ]
          },
          "metadata": {
            "tags": []
          },
          "execution_count": 92
        }
      ]
    },
    {
      "cell_type": "code",
      "metadata": {
        "colab": {
          "base_uri": "https://localhost:8080/"
        },
        "id": "gwCT4JZsuQdI",
        "outputId": "2b82398c-6719-40ea-8bae-470c4a6b6d13"
      },
      "source": [
        "matrix1_transposed = matrix1.transpose()\n",
        "matrix1_transposed"
      ],
      "execution_count": 11,
      "outputs": [
        {
          "output_type": "execute_result",
          "data": {
            "text/plain": [
              "matrix([['5', '0'],\n",
              "        ['0', '5']], dtype='<U1')"
            ]
          },
          "metadata": {
            "tags": []
          },
          "execution_count": 11
        }
      ]
    },
    {
      "cell_type": "markdown",
      "metadata": {
        "id": "i-6qVmgVEIpP"
      },
      "source": [
        "### Check if matrix is square (len of rows = len of columns):"
      ]
    },
    {
      "cell_type": "code",
      "metadata": {
        "colab": {
          "base_uri": "https://localhost:8080/"
        },
        "id": "k8r1CqEpEQD1",
        "outputId": "61262f66-eb52-4058-bc8f-2fb99c42ef98"
      },
      "source": [
        "matrix1.shape[0] == matrix1.shape[1]"
      ],
      "execution_count": 108,
      "outputs": [
        {
          "output_type": "execute_result",
          "data": {
            "text/plain": [
              "True"
            ]
          },
          "metadata": {
            "tags": []
          },
          "execution_count": 108
        }
      ]
    },
    {
      "cell_type": "code",
      "metadata": {
        "colab": {
          "base_uri": "https://localhost:8080/"
        },
        "id": "9tG9kfwrG4BR",
        "outputId": "5edbe6e9-27af-4613-e434-72e155baa991"
      },
      "source": [
        "matrix1"
      ],
      "execution_count": 105,
      "outputs": [
        {
          "output_type": "execute_result",
          "data": {
            "text/plain": [
              "matrix([['5', '0'],\n",
              "        ['0', '5']], dtype='<U1')"
            ]
          },
          "metadata": {
            "tags": []
          },
          "execution_count": 105
        }
      ]
    },
    {
      "cell_type": "code",
      "metadata": {
        "colab": {
          "base_uri": "https://localhost:8080/"
        },
        "id": "Sjzzn5URGlko",
        "outputId": "7358c771-0ad0-4cbe-d012-d6f25e44b115"
      },
      "source": [
        "matrix1.shape\n",
        "#len(matrix1.shape[0])"
      ],
      "execution_count": 106,
      "outputs": [
        {
          "output_type": "execute_result",
          "data": {
            "text/plain": [
              "(2, 2)"
            ]
          },
          "metadata": {
            "tags": []
          },
          "execution_count": 106
        }
      ]
    },
    {
      "cell_type": "code",
      "metadata": {
        "colab": {
          "base_uri": "https://localhost:8080/"
        },
        "id": "LSfZVTRv7VyT",
        "outputId": "4d6e3d8f-5f2c-44d1-cf58-30b7c4a70fd5"
      },
      "source": [
        "matrix2, matrix2_transposed = CreateMatrices(rows2_filtered)\n",
        "print(matrix2, matrix2_transposed)"
      ],
      "execution_count": 74,
      "outputs": [
        {
          "output_type": "stream",
          "text": [
            "[[ 1  2  4]\n",
            " [ 2  1  1]\n",
            " [-4  1 -1]] [[ 1  2 -4]\n",
            " [ 2  1  1]\n",
            " [ 4  1 -1]]\n"
          ],
          "name": "stdout"
        }
      ]
    },
    {
      "cell_type": "code",
      "metadata": {
        "colab": {
          "base_uri": "https://localhost:8080/"
        },
        "id": "BckApqnBzxto",
        "outputId": "1a140689-bd9b-44ba-e428-9ec673f323c7"
      },
      "source": [
        "rows_filtered[0]"
      ],
      "execution_count": 25,
      "outputs": [
        {
          "output_type": "execute_result",
          "data": {
            "text/plain": [
              "['5', '0']"
            ]
          },
          "metadata": {
            "tags": []
          },
          "execution_count": 25
        }
      ]
    },
    {
      "cell_type": "code",
      "metadata": {
        "colab": {
          "base_uri": "https://localhost:8080/"
        },
        "id": "18S0NbN60CM9",
        "outputId": "683e1b05-0732-4ac7-a5f6-666af152856b"
      },
      "source": [
        "type(rows_filtered_array[0])"
      ],
      "execution_count": 39,
      "outputs": [
        {
          "output_type": "execute_result",
          "data": {
            "text/plain": [
              "numpy.ndarray"
            ]
          },
          "metadata": {
            "tags": []
          },
          "execution_count": 39
        }
      ]
    },
    {
      "cell_type": "code",
      "metadata": {
        "colab": {
          "base_uri": "https://localhost:8080/"
        },
        "id": "l7mLACXExqdL",
        "outputId": "b80eaf09-c4a1-4d18-c363-6076c8da9960"
      },
      "source": [
        "np.allclose(rows_filtered_array[0], rows_filtered_array[1])\n"
      ],
      "execution_count": 40,
      "outputs": [
        {
          "output_type": "execute_result",
          "data": {
            "text/plain": [
              "False"
            ]
          },
          "metadata": {
            "tags": []
          },
          "execution_count": 40
        }
      ]
    },
    {
      "cell_type": "code",
      "metadata": {
        "colab": {
          "base_uri": "https://localhost:8080/",
          "height": 35
        },
        "id": "Z1saXRAC7rYP",
        "outputId": "90a4c0a3-7ff8-4284-f555-f4721f6009af"
      },
      "source": [
        "output = compareMatrices(matrix2, matrix2_transposed)\n",
        "output"
      ],
      "execution_count": 79,
      "outputs": [
        {
          "output_type": "execute_result",
          "data": {
            "application/vnd.google.colaboratory.intrinsic+json": {
              "type": "string"
            },
            "text/plain": [
              "'not symmetric'"
            ]
          },
          "metadata": {
            "tags": []
          },
          "execution_count": 79
        }
      ]
    },
    {
      "cell_type": "code",
      "metadata": {
        "id": "bIij-rUoxC81"
      },
      "source": [
        "def compareMatrices(matrix, matrix_transposed):\n",
        "  #if (matrix.shape[0] == matrix.shape[1]): #this doesn't make sense so I'm commenting it out -- bhd\n",
        "    #return \"not possible\"\n",
        "  #else:\n",
        "    return \"symmetric\" if (np.allclose(matrix, matrix_transposed)) else \"not symmetric\"\n",
        "  "
      ],
      "execution_count": 112,
      "outputs": []
    },
    {
      "cell_type": "markdown",
      "metadata": {
        "id": "NQxwDrANvCgA"
      },
      "source": [
        "## Putting it all together for the challenge..."
      ]
    },
    {
      "cell_type": "markdown",
      "metadata": {
        "id": "zuZYBZ1k52Dp"
      },
      "source": [
        "### Test case 1:"
      ]
    },
    {
      "cell_type": "code",
      "metadata": {
        "colab": {
          "base_uri": "https://localhost:8080/",
          "height": 35
        },
        "id": "Jk8Gp8drPfzi",
        "outputId": "da156ba2-3caf-4322-c4ef-33c7c3015d84"
      },
      "source": [
        "strArray1 = [\"5\",\"0\",\"<>\",\"0\",\"5\"]\n",
        "MatrixChallenge(strArray1)"
      ],
      "execution_count": 113,
      "outputs": [
        {
          "output_type": "execute_result",
          "data": {
            "application/vnd.google.colaboratory.intrinsic+json": {
              "type": "string"
            },
            "text/plain": [
              "'symmetric'"
            ]
          },
          "metadata": {
            "tags": []
          },
          "execution_count": 113
        }
      ]
    },
    {
      "cell_type": "markdown",
      "metadata": {
        "id": "rVwsIWME5-U4"
      },
      "source": [
        "### Test case 2:"
      ]
    },
    {
      "cell_type": "code",
      "metadata": {
        "colab": {
          "base_uri": "https://localhost:8080/",
          "height": 35
        },
        "id": "78Q49GFa50AP",
        "outputId": "2ead96e9-479a-4ca2-84f8-4c3a6b08f788"
      },
      "source": [
        "strArray2 = [\"1\",\"2\",\"4\",\"<>\",\"2\",\"1\",\"1\",\"<>\",\"-4\",\"1\",\"-1\"]\n",
        "MatrixChallenge(strArray2)"
      ],
      "execution_count": 114,
      "outputs": [
        {
          "output_type": "execute_result",
          "data": {
            "application/vnd.google.colaboratory.intrinsic+json": {
              "type": "string"
            },
            "text/plain": [
              "'not symmetric'"
            ]
          },
          "metadata": {
            "tags": []
          },
          "execution_count": 114
        }
      ]
    },
    {
      "cell_type": "code",
      "metadata": {
        "id": "n_jBApSJPXaT"
      },
      "source": [
        "def MatrixChallenge(strArr):\n",
        "   # code goes here\n",
        "   rows = splitArray(strArr)\n",
        "   #print(\"1st set of rows: \", rows)\n",
        "   rows = removeEmpties(rows)\n",
        "   #print(\"2nd set of rows: \", rows)\n",
        "   matrix1, matrix1_transposed = CreateMatrices(rows)\n",
        "   #print(matrix1, matrix1_transposed)\n",
        "   return compareMatrices(matrix1, matrix1_transposed)\n",
        "   \n",
        "   \n",
        "   #return strArr #not needed now that we have the function defined -- bhd\n",
        "\n",
        "# keep this function call here \n",
        "#print MatrixChallenge(input())"
      ],
      "execution_count": 88,
      "outputs": []
    },
    {
      "cell_type": "code",
      "metadata": {
        "id": "R7oyJB7aue62"
      },
      "source": [
        ""
      ],
      "execution_count": null,
      "outputs": []
    }
  ]
}